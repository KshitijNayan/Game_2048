{
 "cells": [
  {
   "cell_type": "markdown",
   "metadata": {},
   "source": [
    "# Langton's Ants"
   ]
  },
  {
   "cell_type": "code",
   "execution_count": 14,
   "metadata": {
    "ExecuteTime": {
     "end_time": "2025-02-03T22:32:53.669952Z",
     "start_time": "2025-02-03T22:32:53.667580Z"
    }
   },
   "outputs": [],
   "source": [
    "#numpy setup\n",
    "import numpy as np"
   ]
  },
  {
   "cell_type": "code",
   "execution_count": 15,
   "metadata": {},
   "outputs": [],
   "source": [
    "import random"
   ]
  },
  {
   "cell_type": "code",
   "execution_count": 16,
   "metadata": {
    "ExecuteTime": {
     "end_time": "2025-02-03T22:32:53.921544Z",
     "start_time": "2025-02-03T22:32:53.676269Z"
    }
   },
   "outputs": [],
   "source": [
    "import pygame\n",
    "import sys\n",
    "# pygame setup\n",
    "pygame.init()\n",
    "screen = pygame.display.set_mode((1280, 720))\n",
    "\n",
    "# Font setup\n",
    "font = pygame.font.Font(None, 40)"
   ]
  },
  {
   "cell_type": "code",
   "execution_count": 17,
   "metadata": {},
   "outputs": [],
   "source": [
    "cols, rows = 4, 4  # 4x4 grid\n",
    "def generate_grid_numbers():\n",
    "    return [[random.choice([2, 4]) for _ in range(cols)] for _ in range(rows)]"
   ]
  },
  {
   "cell_type": "code",
   "execution_count": 18,
   "metadata": {},
   "outputs": [],
   "source": [
    "# Colors\n",
    "WHITE = (255, 255, 255)\n",
    "BLACK = (0, 0, 0)\n",
    "GRAY = (200, 200, 200)\n",
    "\n",
    "# Grid settings\n",
    "blockSize = 100  # Grid cell size\n",
    "cols, rows = 4, 4  # 4x4 grid\n",
    "\n",
    "# Grid position\n",
    "margin = 50\n",
    "grid_x = margin  # Align to left with margin\n",
    "grid_y = (720 - (rows * blockSize)) // 2  # Center vertically\n",
    "grid_numbers = generate_grid_numbers()"
   ]
  },
  {
   "cell_type": "code",
   "execution_count": 19,
   "metadata": {},
   "outputs": [],
   "source": [
    "# Button setup\n",
    "button_width = 150\n",
    "button_height = 50\n",
    "button_margin = 20  # Space between buttons\n",
    "\n",
    "# Button positions\n",
    "start_x = 300\n",
    "start_y = 20\n",
    "end_x = start_x + button_width + button_margin\n",
    "restart_x = end_x + button_width + button_margin\n",
    "\n",
    "buttons = {\n",
    "    \"Start\": pygame.Rect(start_x, start_y, button_width, button_height),\n",
    "    \"End\": pygame.Rect(end_x, start_y, button_width, button_height),\n",
    "    \"Restart\": pygame.Rect(restart_x, start_y, button_width, button_height)\n",
    "}\n",
    "\n",
    "def draw_buttons():\n",
    "    \"\"\"Draws the Start, End, and Restart buttons.\"\"\"\n",
    "    for text, rect in buttons.items():\n",
    "        pygame.draw.rect(screen, GRAY, rect)  # Button background\n",
    "        pygame.draw.rect(screen, BLACK, rect, 3)  # Button border\n",
    "        text_surface = font.render(text, True, BLACK)\n",
    "        text_rect = text_surface.get_rect(center=rect.center)\n",
    "        screen.blit(text_surface, text_rect)"
   ]
  },
  {
   "cell_type": "code",
   "execution_count": 20,
   "metadata": {},
   "outputs": [],
   "source": [
    "def draw_initial_Grid():\n",
    "    draw_buttons()\n",
    "    blockSize = 100  # Increased block size\n",
    "    cols, rows = 4, 4  # 4x4 grid\n",
    "\n",
    "    # Define starting position (left side with margin)\n",
    "    margin = 50\n",
    "    start_x = margin  # Align to left with margin\n",
    "    start_y = (720 - (rows * blockSize)) // 2  # Center vertically\n",
    "\n",
    "    for row in range(rows):\n",
    "        for col in range(cols):\n",
    "            x = start_x + col * blockSize\n",
    "            y = start_y + row * blockSize\n",
    "            rect = pygame.Rect(x, y, blockSize, blockSize)\n",
    "            pygame.draw.rect(screen, (0, 0, 0), rect, 1)  # Black grid lines"
   ]
  },
  {
   "cell_type": "code",
   "execution_count": null,
   "metadata": {
    "ExecuteTime": {
     "end_time": "2025-02-03T22:32:53.993016Z",
     "start_time": "2025-02-03T22:32:53.933255Z"
    }
   },
   "outputs": [],
   "source": [
    "# Display window setup\n",
    "draw_initial_Grid()\n",
    "number_font = pygame.font.Font(None, 60)  # Larger font for grid numbers\n",
    "\n",
    "def draw_grid():\n",
    "    \"\"\"Draws a 4x4 grid on the left with numbers inside.\"\"\"\n",
    "    screen.fill('#FFDF00')  # Clear screen before redrawing everything\n",
    "    draw_buttons()  # Redraw buttons\n",
    "\n",
    "    for row in range(rows):\n",
    "        for col in range(cols):\n",
    "            x = grid_x + col * blockSize\n",
    "            y = grid_y + row * blockSize\n",
    "            rect = pygame.Rect(x, y, blockSize, blockSize)\n",
    "            pygame.draw.rect(screen, BLACK, rect, 3)  # Grid lines\n",
    "            \n",
    "            # Draw the number inside the cell\n",
    "            number = str(grid_numbers[row][col])\n",
    "            text_surface = number_font.render(number, True, BLACK)\n",
    "            text_rect = text_surface.get_rect(center=rect.center)\n",
    "            screen.blit(text_surface, text_rect)\n"
   ]
  },
  {
   "cell_type": "code",
   "execution_count": 22,
   "metadata": {
    "ExecuteTime": {
     "end_time": "2025-02-03T22:32:54.039207Z",
     "start_time": "2025-02-03T22:32:54.036290Z"
    }
   },
   "outputs": [
    {
     "data": {
      "text/plain": [
       "<rect(0, 0, 1280, 720)>"
      ]
     },
     "execution_count": 22,
     "metadata": {},
     "output_type": "execute_result"
    }
   ],
   "source": [
    "screen.fill('#FFDF00')"
   ]
  },
  {
   "cell_type": "code",
   "execution_count": 23,
   "metadata": {
    "ExecuteTime": {
     "end_time": "2025-02-03T22:32:54.066899Z",
     "start_time": "2025-02-03T22:32:54.062729Z"
    }
   },
   "outputs": [
    {
     "data": {
      "text/plain": [
       "'\\n0 --> nothing\\n1 --> A\\n2 --> B\\n'"
      ]
     },
     "execution_count": 23,
     "metadata": {},
     "output_type": "execute_result"
    }
   ],
   "source": [
    "#Game variables\n",
    "s=np.random.randint(1,3)*3\n",
    "\"\"\"\n",
    "1 --> up\n",
    "2 --> right\n",
    "3 --> down\n",
    "4 --> left\n",
    "\"\"\"\n",
    "x1=0\n",
    "y1=0\n",
    "x2=0\n",
    "y2=0\n",
    "while x1==x2 and y1==y2:\n",
    "    x1=np.random.randint(128)*10\n",
    "    y1=np.random.randint(72)*10\n",
    "    x2=np.random.randint(128)*10\n",
    "    y2=np.random.randint(72)*10\n",
    "color=np.zeros((72,128))\n",
    "\"\"\" \n",
    "0 --> white\n",
    "1 --> black\n",
    "\"\"\"\n",
    "\n",
    "decay1 = 0.8 #for storing decay count down for ant A\n",
    "decay2 = 0.8 #for storing decay count down for ant B\n",
    "\n",
    "pm=np.zeros((72,128))#pheromone\n",
    "\"\"\"\n",
    "0 --> nothing\n",
    "1 --> A\n",
    "2 --> B\n",
    "\"\"\""
   ]
  },
  {
   "cell_type": "code",
   "execution_count": 24,
   "metadata": {
    "ExecuteTime": {
     "end_time": "2025-02-03T22:32:54.136258Z",
     "start_time": "2025-02-03T22:32:54.133503Z"
    }
   },
   "outputs": [],
   "source": [
    "# initializing clock\n",
    "clock = pygame.time.Clock()"
   ]
  },
  {
   "cell_type": "code",
   "execution_count": null,
   "metadata": {
    "ExecuteTime": {
     "end_time": "2025-02-03T22:34:11.051221Z",
     "start_time": "2025-02-03T22:32:54.152249Z"
    }
   },
   "outputs": [
    {
     "name": "stdout",
     "output_type": "stream",
     "text": [
      "Start button pressed!\n",
      "Start button pressed!\n",
      "Start button pressed!\n",
      "Start button pressed!\n"
     ]
    }
   ],
   "source": [
    "#game loop setup\n",
    "running = True\n",
    "while running:\n",
    "    # poll for events\n",
    "    # pygame.QUIT event means the user clicked X to close the game window\n",
    "    for event in pygame.event.get():\n",
    "        if event.type == pygame.QUIT:\n",
    "            running = False  \n",
    "        \n",
    "        if event.type == pygame.MOUSEBUTTONDOWN:\n",
    "            mouse_pos = pygame.mouse.get_pos()\n",
    "            for text, rect in buttons.items():\n",
    "                if rect.collidepoint(mouse_pos):  # Check if button is clicked\n",
    "                    print(f\"{text} button pressed!\")\n",
    "                    if text in [\"Start\", \"Restart\"]:\n",
    "                        grid_numbers=None\n",
    "                        grid_numbers = generate_grid_numbers()  # Generate grid\n",
    "                    if text =='End':\n",
    "                        grid_numbers=None\n",
    "    \n",
    "\n",
    "    # flip() to display the work on screen\n",
    "    pygame.display.flip()\n",
    "    \n",
    "    clock.tick(60)  # limits FPS to 60"
   ]
  },
  {
   "cell_type": "code",
   "execution_count": 26,
   "metadata": {
    "ExecuteTime": {
     "end_time": "2025-02-03T22:34:11.208146Z",
     "start_time": "2025-02-03T22:34:11.121212Z"
    }
   },
   "outputs": [
    {
     "ename": "SystemExit",
     "evalue": "",
     "output_type": "error",
     "traceback": [
      "An exception has occurred, use %tb to see the full traceback.\n",
      "\u001b[1;31mSystemExit\u001b[0m\n"
     ]
    }
   ],
   "source": [
    "pygame.quit()\n",
    "sys.exit()"
   ]
  }
 ],
 "metadata": {
  "kernelspec": {
   "display_name": "Python 3",
   "language": "python",
   "name": "python3"
  },
  "language_info": {
   "codemirror_mode": {
    "name": "ipython",
    "version": 3
   },
   "file_extension": ".py",
   "mimetype": "text/x-python",
   "name": "python",
   "nbconvert_exporter": "python",
   "pygments_lexer": "ipython3",
   "version": "3.13.1"
  }
 },
 "nbformat": 4,
 "nbformat_minor": 2
}
